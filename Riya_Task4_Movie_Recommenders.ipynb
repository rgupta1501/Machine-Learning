{
 "cells": [
  {
   "cell_type": "markdown",
   "metadata": {},
   "source": [
    "# Import libraries"
   ]
  },
  {
   "cell_type": "code",
   "execution_count": 1,
   "metadata": {},
   "outputs": [
    {
     "name": "stdout",
     "output_type": "stream",
     "text": [
      "Requirement already satisfied: pip in ./anaconda3/lib/python3.11/site-packages (23.2.1)\n",
      "Collecting pip\n",
      "  Obtaining dependency information for pip from https://files.pythonhosted.org/packages/8a/6a/19e9fe04fca059ccf770861c7d5721ab4c2aebc539889e97c7977528a53b/pip-24.0-py3-none-any.whl.metadata\n",
      "  Downloading pip-24.0-py3-none-any.whl.metadata (3.6 kB)\n",
      "Downloading pip-24.0-py3-none-any.whl (2.1 MB)\n",
      "\u001b[2K   \u001b[90m━━━━━━━━━━━━━━━━━━━━━━━━━━━━━━━━━━━━━━━━\u001b[0m \u001b[32m2.1/2.1 MB\u001b[0m \u001b[31m7.3 MB/s\u001b[0m eta \u001b[36m0:00:00\u001b[0m00:01\u001b[0m00:01\u001b[0m\n",
      "\u001b[?25hInstalling collected packages: pip\n",
      "  Attempting uninstall: pip\n",
      "    Found existing installation: pip 23.2.1\n",
      "    Uninstalling pip-23.2.1:\n",
      "      Successfully uninstalled pip-23.2.1\n",
      "Successfully installed pip-24.0\n",
      "Note: you may need to restart the kernel to use updated packages.\n"
     ]
    }
   ],
   "source": [
    "pip install --upgrade pip"
   ]
  },
  {
   "cell_type": "code",
   "execution_count": 2,
   "metadata": {},
   "outputs": [
    {
     "name": "stdout",
     "output_type": "stream",
     "text": [
      "Requirement already satisfied: setuptools in ./anaconda3/lib/python3.11/site-packages (68.0.0)\n",
      "Requirement already satisfied: wheel in ./anaconda3/lib/python3.11/site-packages (0.38.4)\n",
      "Note: you may need to restart the kernel to use updated packages.\n"
     ]
    }
   ],
   "source": [
    "pip install setuptools wheel"
   ]
  },
  {
   "cell_type": "code",
   "execution_count": 3,
   "metadata": {},
   "outputs": [
    {
     "name": "stdout",
     "output_type": "stream",
     "text": [
      "Collecting scikit-surprise\n",
      "  Downloading scikit-surprise-1.1.3.tar.gz (771 kB)\n",
      "\u001b[2K     \u001b[90m━━━━━━━━━━━━━━━━━━━━━━━━━━━━━━━━━━━━━━\u001b[0m \u001b[32m772.0/772.0 kB\u001b[0m \u001b[31m10.1 MB/s\u001b[0m eta \u001b[36m0:00:00\u001b[0ma \u001b[36m0:00:01\u001b[0m\n",
      "\u001b[?25h  Preparing metadata (setup.py) ... \u001b[?25ldone\n",
      "\u001b[?25hRequirement already satisfied: joblib>=1.0.0 in ./anaconda3/lib/python3.11/site-packages (from scikit-surprise) (1.2.0)\n",
      "Requirement already satisfied: numpy>=1.17.3 in ./anaconda3/lib/python3.11/site-packages (from scikit-surprise) (1.24.3)\n",
      "Requirement already satisfied: scipy>=1.3.2 in ./anaconda3/lib/python3.11/site-packages (from scikit-surprise) (1.11.1)\n",
      "Building wheels for collected packages: scikit-surprise\n",
      "  Building wheel for scikit-surprise (setup.py) ... \u001b[?25ldone\n",
      "\u001b[?25h  Created wheel for scikit-surprise: filename=scikit_surprise-1.1.3-cp311-cp311-macosx_10_9_x86_64.whl size=1116806 sha256=c36ffc3735f8fa0ee4153386ccf3547a6ccb191d70c12f1d71df7b73c6101ed5\n",
      "  Stored in directory: /Users/riyagupta/Library/Caches/pip/wheels/f4/2b/26/e2a5eae55d3b7688995e66abe7f40473aac6c95ddd8ee174a8\n",
      "Successfully built scikit-surprise\n",
      "Installing collected packages: scikit-surprise\n",
      "Successfully installed scikit-surprise-1.1.3\n",
      "Note: you may need to restart the kernel to use updated packages.\n"
     ]
    }
   ],
   "source": [
    "pip install scikit-surprise"
   ]
  },
  {
   "cell_type": "code",
   "execution_count": 4,
   "metadata": {},
   "outputs": [],
   "source": [
    "import pandas as pd\n",
    "import numpy as np\n",
    "from sklearn.feature_extraction.text import TfidfVectorizer\n",
    "from sklearn.decomposition import TruncatedSVD\n",
    "from scipy.sparse.linalg import svds\n",
    "import gc\n",
    "from sklearn.metrics.pairwise import cosine_similarity"
   ]
  },
  {
   "cell_type": "markdown",
   "metadata": {},
   "source": [
    "# Load datasets"
   ]
  },
  {
   "cell_type": "code",
   "execution_count": 6,
   "metadata": {
    "scrolled": true
   },
   "outputs": [],
   "source": [
    "# Load Movies.csv\n",
    "movies = pd.read_csv(\"ml-20m/movies.csv\")\n",
    "\n",
    "# Load Ratings.csv\n",
    "ratings = pd.read_csv(\"ml-20m/ratings.csv\")\n",
    "\n",
    "# Load Tags.csv\n",
    "tags = pd.read_csv(\"ml-20m/tags.csv\")"
   ]
  },
  {
   "cell_type": "markdown",
   "metadata": {},
   "source": [
    "# Merge tags and movies"
   ]
  },
  {
   "cell_type": "code",
   "execution_count": 7,
   "metadata": {},
   "outputs": [],
   "source": [
    "for j in tags.movieId.unique():\n",
    "   movies.loc[movies.loc[movies.movieId==j].index,'tags']=' '.join([i if type(i)==str else str(i) for i in tags.loc[ ( tags.movieId == j ),'tag'].unique().tolist() ])"
   ]
  },
  {
   "cell_type": "markdown",
   "metadata": {},
   "source": [
    "# Content filtering method"
   ]
  },
  {
   "cell_type": "code",
   "execution_count": 8,
   "metadata": {},
   "outputs": [],
   "source": [
    "from sklearn.model_selection import train_test_split\n",
    "use,dontuse=train_test_split(ratings,test_size=0.995)"
   ]
  },
  {
   "cell_type": "code",
   "execution_count": 9,
   "metadata": {},
   "outputs": [],
   "source": [
    "gc.collect()\n",
    "user_movies_data=pd.pivot_table(use,index='movieId',columns='userId',values='rating',fill_value=0)\n",
    "movies['tags']=movies['tags'].fillna('None')"
   ]
  },
  {
   "cell_type": "code",
   "execution_count": 10,
   "metadata": {},
   "outputs": [],
   "source": [
    "tfidf=TfidfVectorizer()\n",
    "tfidf_matrix=tfidf.fit_transform(movies['tags'])\n",
    "tfidf_df=pd.DataFrame(tfidf_matrix.toarray(),index=movies.index.tolist())"
   ]
  },
  {
   "cell_type": "code",
   "execution_count": 12,
   "metadata": {},
   "outputs": [],
   "source": [
    "svd=TruncatedSVD(n_components=19)\n",
    "latent_matrix=svd.fit_transform(tfidf_df)"
   ]
  },
  {
   "cell_type": "code",
   "execution_count": 13,
   "metadata": {},
   "outputs": [],
   "source": [
    "n=19\n",
    "latent_matrix_1_df=pd.DataFrame(latent_matrix[:,0:n],index=movies['title'].tolist())"
   ]
  },
  {
   "cell_type": "markdown",
   "metadata": {},
   "source": [
    "# Create Collab filter"
   ]
  },
  {
   "cell_type": "code",
   "execution_count": 14,
   "metadata": {},
   "outputs": [],
   "source": [
    "svd=TruncatedSVD(n_components=20)\n",
    "latent_matrix_2=svd.fit_transform(user_movies_data)"
   ]
  },
  {
   "cell_type": "code",
   "execution_count": 15,
   "metadata": {},
   "outputs": [],
   "source": [
    "latent_matrix_2_df=pd.DataFrame(latent_matrix_2,index=[movies.loc[(movies.movieId==i),'title'].values[0] for i in (use['movieId'].unique())])"
   ]
  },
  {
   "cell_type": "code",
   "execution_count": 16,
   "metadata": {},
   "outputs": [],
   "source": [
    "latent_matrix_1_df=latent_matrix_1_df.drop_duplicates()\n",
    "latent_matrix_2_df=latent_matrix_2_df.drop_duplicates()"
   ]
  },
  {
   "cell_type": "code",
   "execution_count": 18,
   "metadata": {},
   "outputs": [],
   "source": [
    "a = latent_matrix_2_df.copy()\n",
    "for i in latent_matrix_1_df.index:\n",
    "    if i not in latent_matrix_2_df.index:\n",
    "        new_row_df = pd.DataFrame(np.zeros((1, 20)), index=[i], columns=np.arange(0, 20))\n",
    "        a = pd.concat([a, new_row_df])\n",
    "\n",
    "b = latent_matrix_1_df.copy()\n",
    "for i in a.index:\n",
    "    if i not in latent_matrix_1_df.index:\n",
    "        new_row_df = pd.DataFrame(np.zeros((1, 20)), index=[i], columns=np.arange(0, 20))\n",
    "        b = pd.concat([b, new_row_df])\n",
    "        \n",
    "a = a[~a.index.duplicated(keep='first')]\n",
    "\n",
    "b = b[~b.index.duplicated(keep='first')]"
   ]
  },
  {
   "cell_type": "markdown",
   "metadata": {},
   "source": [
    "# Hybrid model"
   ]
  },
  {
   "cell_type": "code",
   "execution_count": 21,
   "metadata": {},
   "outputs": [],
   "source": [
    "def recommend_similar_movies(title):\n",
    "    b_filled = b.fillna(0)\n",
    "    a_filled = a.fillna(0)\n",
    "    \n",
    "    if title in b_filled.index:\n",
    "        a_1 = np.array(b_filled.loc[title]).reshape(1, -1)\n",
    "        score_content = cosine_similarity(b_filled, a_1).reshape(-1)\n",
    "    else:\n",
    "        score_content = np.zeros(b_filled.shape[0])\n",
    "    \n",
    "    if title in a_filled.index:\n",
    "        a_2 = np.array(a_filled.loc[title]).reshape(1, -1)\n",
    "        score_collab = cosine_similarity(a_filled, a_2).reshape(-1)\n",
    "    else:\n",
    "        score_collab = np.zeros(a_filled.shape[0])\n",
    "    \n",
    "    hybrid_score = (score_content + score_collab) / 2\n",
    "\n",
    "    dictDF = {'content': score_content, 'collab': score_collab, 'hybrid': hybrid_score}\n",
    "    similar_movies = pd.DataFrame(dictDF, index=a_filled.index)\n",
    "\n",
    "    similar_movies.sort_values('hybrid', ascending=False, inplace=True)\n",
    "    return similar_movies.head()\n"
   ]
  },
  {
   "cell_type": "code",
   "execution_count": 22,
   "metadata": {},
   "outputs": [
    {
     "data": {
      "text/html": [
       "<div>\n",
       "<style scoped>\n",
       "    .dataframe tbody tr th:only-of-type {\n",
       "        vertical-align: middle;\n",
       "    }\n",
       "\n",
       "    .dataframe tbody tr th {\n",
       "        vertical-align: top;\n",
       "    }\n",
       "\n",
       "    .dataframe thead th {\n",
       "        text-align: right;\n",
       "    }\n",
       "</style>\n",
       "<table border=\"1\" class=\"dataframe\">\n",
       "  <thead>\n",
       "    <tr style=\"text-align: right;\">\n",
       "      <th></th>\n",
       "      <th>content</th>\n",
       "      <th>collab</th>\n",
       "      <th>hybrid</th>\n",
       "    </tr>\n",
       "  </thead>\n",
       "  <tbody>\n",
       "    <tr>\n",
       "      <th>Reflecting Skin, The (1990)</th>\n",
       "      <td>0.886805</td>\n",
       "      <td>0.852208</td>\n",
       "      <td>0.869506</td>\n",
       "    </tr>\n",
       "    <tr>\n",
       "      <th>20,000 Leagues Under the Sea (1954)</th>\n",
       "      <td>0.958696</td>\n",
       "      <td>0.776141</td>\n",
       "      <td>0.867419</td>\n",
       "    </tr>\n",
       "    <tr>\n",
       "      <th>Philadelphia (1993)</th>\n",
       "      <td>0.893544</td>\n",
       "      <td>0.764527</td>\n",
       "      <td>0.829035</td>\n",
       "    </tr>\n",
       "    <tr>\n",
       "      <th>Son's Room, The (Stanza del figlio, La) (2001)</th>\n",
       "      <td>0.918878</td>\n",
       "      <td>0.737515</td>\n",
       "      <td>0.828196</td>\n",
       "    </tr>\n",
       "    <tr>\n",
       "      <th>Family Thing, A (1996)</th>\n",
       "      <td>0.927662</td>\n",
       "      <td>0.715633</td>\n",
       "      <td>0.821648</td>\n",
       "    </tr>\n",
       "  </tbody>\n",
       "</table>\n",
       "</div>"
      ],
      "text/plain": [
       "                                                 content    collab    hybrid\n",
       "Reflecting Skin, The (1990)                     0.886805  0.852208  0.869506\n",
       "20,000 Leagues Under the Sea (1954)             0.958696  0.776141  0.867419\n",
       "Philadelphia (1993)                             0.893544  0.764527  0.829035\n",
       "Son's Room, The (Stanza del figlio, La) (2001)  0.918878  0.737515  0.828196\n",
       "Family Thing, A (1996)                          0.927662  0.715633  0.821648"
      ]
     },
     "execution_count": 22,
     "metadata": {},
     "output_type": "execute_result"
    }
   ],
   "source": [
    "recommend_similar_movies('Toy Story (1995)')"
   ]
  },
  {
   "cell_type": "code",
   "execution_count": 23,
   "metadata": {},
   "outputs": [
    {
     "data": {
      "text/html": [
       "<div>\n",
       "<style scoped>\n",
       "    .dataframe tbody tr th:only-of-type {\n",
       "        vertical-align: middle;\n",
       "    }\n",
       "\n",
       "    .dataframe tbody tr th {\n",
       "        vertical-align: top;\n",
       "    }\n",
       "\n",
       "    .dataframe thead th {\n",
       "        text-align: right;\n",
       "    }\n",
       "</style>\n",
       "<table border=\"1\" class=\"dataframe\">\n",
       "  <thead>\n",
       "    <tr style=\"text-align: right;\">\n",
       "      <th></th>\n",
       "      <th>content</th>\n",
       "      <th>collab</th>\n",
       "      <th>hybrid</th>\n",
       "    </tr>\n",
       "  </thead>\n",
       "  <tbody>\n",
       "    <tr>\n",
       "      <th>Cleopatra (1963)</th>\n",
       "      <td>0.835018</td>\n",
       "      <td>0.998090</td>\n",
       "      <td>0.916554</td>\n",
       "    </tr>\n",
       "    <tr>\n",
       "      <th>White Squall (1996)</th>\n",
       "      <td>0.762218</td>\n",
       "      <td>0.999046</td>\n",
       "      <td>0.880632</td>\n",
       "    </tr>\n",
       "    <tr>\n",
       "      <th>13 Assassins (Jûsan-nin no shikaku) (2010)</th>\n",
       "      <td>0.724798</td>\n",
       "      <td>0.996510</td>\n",
       "      <td>0.860654</td>\n",
       "    </tr>\n",
       "    <tr>\n",
       "      <th>Last Orders (2001)</th>\n",
       "      <td>0.756595</td>\n",
       "      <td>0.954578</td>\n",
       "      <td>0.855587</td>\n",
       "    </tr>\n",
       "    <tr>\n",
       "      <th>Samurai Rebellion (Jôi-uchi: Hairyô tsuma shimatsu) (1967)</th>\n",
       "      <td>0.723456</td>\n",
       "      <td>0.984386</td>\n",
       "      <td>0.853921</td>\n",
       "    </tr>\n",
       "  </tbody>\n",
       "</table>\n",
       "</div>"
      ],
      "text/plain": [
       "                                                     content    collab  \\\n",
       "Cleopatra (1963)                                    0.835018  0.998090   \n",
       "White Squall (1996)                                 0.762218  0.999046   \n",
       "13 Assassins (Jûsan-nin no shikaku) (2010)          0.724798  0.996510   \n",
       "Last Orders (2001)                                  0.756595  0.954578   \n",
       "Samurai Rebellion (Jôi-uchi: Hairyô tsuma shima...  0.723456  0.984386   \n",
       "\n",
       "                                                      hybrid  \n",
       "Cleopatra (1963)                                    0.916554  \n",
       "White Squall (1996)                                 0.880632  \n",
       "13 Assassins (Jûsan-nin no shikaku) (2010)          0.860654  \n",
       "Last Orders (2001)                                  0.855587  \n",
       "Samurai Rebellion (Jôi-uchi: Hairyô tsuma shima...  0.853921  "
      ]
     },
     "execution_count": 23,
     "metadata": {},
     "output_type": "execute_result"
    }
   ],
   "source": [
    "recommend_similar_movies('Mission: Impossible II (2000)')"
   ]
  },
  {
   "cell_type": "code",
   "execution_count": null,
   "metadata": {},
   "outputs": [],
   "source": []
  }
 ],
 "metadata": {
  "kernelspec": {
   "display_name": "Python 3 (ipykernel)",
   "language": "python",
   "name": "python3"
  },
  "language_info": {
   "codemirror_mode": {
    "name": "ipython",
    "version": 3
   },
   "file_extension": ".py",
   "mimetype": "text/x-python",
   "name": "python",
   "nbconvert_exporter": "python",
   "pygments_lexer": "ipython3",
   "version": "3.11.5"
  }
 },
 "nbformat": 4,
 "nbformat_minor": 4
}
